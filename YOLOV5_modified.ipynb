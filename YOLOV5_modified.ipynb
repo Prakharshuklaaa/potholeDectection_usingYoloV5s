{
  "cells": [
    {
      "cell_type": "markdown",
      "metadata": {
        "id": "view-in-github",
        "colab_type": "text"
      },
      "source": [
        "<a href=\"https://colab.research.google.com/github/Prakharshuklaaa/potholeDectection_usingYoloV5s/blob/main/YOLOV5_modified.ipynb\" target=\"_parent\"><img src=\"https://colab.research.google.com/assets/colab-badge.svg\" alt=\"Open In Colab\"/></a>"
      ]
    },
    {
      "cell_type": "code",
      "execution_count": null,
      "metadata": {
        "colab": {
          "base_uri": "https://localhost:8080/"
        },
        "id": "KPNSJxMmH-pP",
        "outputId": "10ea2eca-7a01-484d-d634-3df68457f752"
      },
      "outputs": [
        {
          "output_type": "stream",
          "name": "stdout",
          "text": [
            "Looking in indexes: https://pypi.org/simple, https://us-python.pkg.dev/colab-wheels/public/simple/\n",
            "Requirement already satisfied: torch in /usr/local/lib/python3.8/dist-packages (1.13.0+cu116)\n",
            "Requirement already satisfied: typing-extensions in /usr/local/lib/python3.8/dist-packages (from torch) (4.4.0)\n"
          ]
        }
      ],
      "source": [
        "!pip install torch"
      ]
    },
    {
      "cell_type": "code",
      "execution_count": null,
      "metadata": {
        "id": "ETBj1ObWIDGx"
      },
      "outputs": [],
      "source": [
        "import torch"
      ]
    },
    {
      "cell_type": "code",
      "execution_count": null,
      "metadata": {
        "colab": {
          "base_uri": "https://localhost:8080/"
        },
        "id": "kpcoH_hBIGE4",
        "outputId": "b7702761-8f14-4bcd-9a6e-af24dab60442"
      },
      "outputs": [
        {
          "output_type": "stream",
          "name": "stdout",
          "text": [
            "Cloning into 'yolov5'...\n",
            "remote: Enumerating objects: 14661, done.\u001b[K\n",
            "remote: Counting objects: 100% (7/7), done.\u001b[K\n",
            "remote: Compressing objects: 100% (6/6), done.\u001b[K\n",
            "remote: Total 14661 (delta 1), reused 4 (delta 1), pack-reused 14654\u001b[K\n",
            "Receiving objects: 100% (14661/14661), 13.79 MiB | 17.44 MiB/s, done.\n",
            "Resolving deltas: 100% (10083/10083), done.\n"
          ]
        }
      ],
      "source": [
        "!git clone https://github.com/ultralytics/yolov5"
      ]
    },
    {
      "cell_type": "code",
      "execution_count": null,
      "metadata": {
        "colab": {
          "base_uri": "https://localhost:8080/"
        },
        "id": "qhxxA4HXIG8Y",
        "outputId": "33ffcb20-1342-4d1b-afed-33ef336bcdb6"
      },
      "outputs": [
        {
          "output_type": "stream",
          "name": "stdout",
          "text": [
            "/content/yolov5\n"
          ]
        }
      ],
      "source": [
        "%cd yolov5"
      ]
    },
    {
      "cell_type": "code",
      "execution_count": null,
      "metadata": {
        "colab": {
          "base_uri": "https://localhost:8080/"
        },
        "id": "QhECTIw3IJpg",
        "outputId": "280a3e24-db61-41c8-894d-8c890a295bc3"
      },
      "outputs": [
        {
          "output_type": "stream",
          "name": "stdout",
          "text": [
            "Looking in indexes: https://pypi.org/simple, https://us-python.pkg.dev/colab-wheels/public/simple/\n",
            "Collecting gitpython\n",
            "  Downloading GitPython-3.1.29-py3-none-any.whl (182 kB)\n",
            "\u001b[K     |████████████████████████████████| 182 kB 20.1 MB/s \n",
            "\u001b[?25hRequirement already satisfied: ipython in /usr/local/lib/python3.8/dist-packages (from -r requirements.txt (line 6)) (7.9.0)\n",
            "Requirement already satisfied: matplotlib>=3.2.2 in /usr/local/lib/python3.8/dist-packages (from -r requirements.txt (line 7)) (3.2.2)\n",
            "Requirement already satisfied: numpy>=1.18.5 in /usr/local/lib/python3.8/dist-packages (from -r requirements.txt (line 8)) (1.21.6)\n",
            "Requirement already satisfied: opencv-python>=4.1.1 in /usr/local/lib/python3.8/dist-packages (from -r requirements.txt (line 9)) (4.6.0.66)\n",
            "Requirement already satisfied: Pillow>=7.1.2 in /usr/local/lib/python3.8/dist-packages (from -r requirements.txt (line 10)) (7.1.2)\n",
            "Requirement already satisfied: psutil in /usr/local/lib/python3.8/dist-packages (from -r requirements.txt (line 11)) (5.4.8)\n",
            "Requirement already satisfied: PyYAML>=5.3.1 in /usr/local/lib/python3.8/dist-packages (from -r requirements.txt (line 12)) (6.0)\n",
            "Requirement already satisfied: requests>=2.23.0 in /usr/local/lib/python3.8/dist-packages (from -r requirements.txt (line 13)) (2.23.0)\n",
            "Requirement already satisfied: scipy>=1.4.1 in /usr/local/lib/python3.8/dist-packages (from -r requirements.txt (line 14)) (1.7.3)\n",
            "Collecting thop>=0.1.1\n",
            "  Downloading thop-0.1.1.post2209072238-py3-none-any.whl (15 kB)\n",
            "Requirement already satisfied: torch>=1.7.0 in /usr/local/lib/python3.8/dist-packages (from -r requirements.txt (line 16)) (1.13.0+cu116)\n",
            "Requirement already satisfied: torchvision>=0.8.1 in /usr/local/lib/python3.8/dist-packages (from -r requirements.txt (line 17)) (0.14.0+cu116)\n",
            "Requirement already satisfied: tqdm>=4.64.0 in /usr/local/lib/python3.8/dist-packages (from -r requirements.txt (line 18)) (4.64.1)\n",
            "Requirement already satisfied: tensorboard>=2.4.1 in /usr/local/lib/python3.8/dist-packages (from -r requirements.txt (line 22)) (2.9.1)\n",
            "Requirement already satisfied: pandas>=1.1.4 in /usr/local/lib/python3.8/dist-packages (from -r requirements.txt (line 27)) (1.3.5)\n",
            "Requirement already satisfied: seaborn>=0.11.0 in /usr/local/lib/python3.8/dist-packages (from -r requirements.txt (line 28)) (0.11.2)\n",
            "Requirement already satisfied: pyparsing!=2.0.4,!=2.1.2,!=2.1.6,>=2.0.1 in /usr/local/lib/python3.8/dist-packages (from matplotlib>=3.2.2->-r requirements.txt (line 7)) (3.0.9)\n",
            "Requirement already satisfied: kiwisolver>=1.0.1 in /usr/local/lib/python3.8/dist-packages (from matplotlib>=3.2.2->-r requirements.txt (line 7)) (1.4.4)\n",
            "Requirement already satisfied: python-dateutil>=2.1 in /usr/local/lib/python3.8/dist-packages (from matplotlib>=3.2.2->-r requirements.txt (line 7)) (2.8.2)\n",
            "Requirement already satisfied: cycler>=0.10 in /usr/local/lib/python3.8/dist-packages (from matplotlib>=3.2.2->-r requirements.txt (line 7)) (0.11.0)\n",
            "Requirement already satisfied: chardet<4,>=3.0.2 in /usr/local/lib/python3.8/dist-packages (from requests>=2.23.0->-r requirements.txt (line 13)) (3.0.4)\n",
            "Requirement already satisfied: urllib3!=1.25.0,!=1.25.1,<1.26,>=1.21.1 in /usr/local/lib/python3.8/dist-packages (from requests>=2.23.0->-r requirements.txt (line 13)) (1.24.3)\n",
            "Requirement already satisfied: certifi>=2017.4.17 in /usr/local/lib/python3.8/dist-packages (from requests>=2.23.0->-r requirements.txt (line 13)) (2022.12.7)\n",
            "Requirement already satisfied: idna<3,>=2.5 in /usr/local/lib/python3.8/dist-packages (from requests>=2.23.0->-r requirements.txt (line 13)) (2.10)\n",
            "Requirement already satisfied: typing-extensions in /usr/local/lib/python3.8/dist-packages (from torch>=1.7.0->-r requirements.txt (line 16)) (4.4.0)\n",
            "Requirement already satisfied: google-auth<3,>=1.6.3 in /usr/local/lib/python3.8/dist-packages (from tensorboard>=2.4.1->-r requirements.txt (line 22)) (2.15.0)\n",
            "Requirement already satisfied: protobuf<3.20,>=3.9.2 in /usr/local/lib/python3.8/dist-packages (from tensorboard>=2.4.1->-r requirements.txt (line 22)) (3.19.6)\n",
            "Requirement already satisfied: google-auth-oauthlib<0.5,>=0.4.1 in /usr/local/lib/python3.8/dist-packages (from tensorboard>=2.4.1->-r requirements.txt (line 22)) (0.4.6)\n",
            "Requirement already satisfied: tensorboard-plugin-wit>=1.6.0 in /usr/local/lib/python3.8/dist-packages (from tensorboard>=2.4.1->-r requirements.txt (line 22)) (1.8.1)\n",
            "Requirement already satisfied: werkzeug>=1.0.1 in /usr/local/lib/python3.8/dist-packages (from tensorboard>=2.4.1->-r requirements.txt (line 22)) (1.0.1)\n",
            "Requirement already satisfied: markdown>=2.6.8 in /usr/local/lib/python3.8/dist-packages (from tensorboard>=2.4.1->-r requirements.txt (line 22)) (3.4.1)\n",
            "Requirement already satisfied: wheel>=0.26 in /usr/local/lib/python3.8/dist-packages (from tensorboard>=2.4.1->-r requirements.txt (line 22)) (0.38.4)\n",
            "Requirement already satisfied: absl-py>=0.4 in /usr/local/lib/python3.8/dist-packages (from tensorboard>=2.4.1->-r requirements.txt (line 22)) (1.3.0)\n",
            "Requirement already satisfied: setuptools>=41.0.0 in /usr/local/lib/python3.8/dist-packages (from tensorboard>=2.4.1->-r requirements.txt (line 22)) (57.4.0)\n",
            "Requirement already satisfied: tensorboard-data-server<0.7.0,>=0.6.0 in /usr/local/lib/python3.8/dist-packages (from tensorboard>=2.4.1->-r requirements.txt (line 22)) (0.6.1)\n",
            "Requirement already satisfied: grpcio>=1.24.3 in /usr/local/lib/python3.8/dist-packages (from tensorboard>=2.4.1->-r requirements.txt (line 22)) (1.51.1)\n",
            "Requirement already satisfied: pytz>=2017.3 in /usr/local/lib/python3.8/dist-packages (from pandas>=1.1.4->-r requirements.txt (line 27)) (2022.6)\n",
            "Requirement already satisfied: rsa<5,>=3.1.4 in /usr/local/lib/python3.8/dist-packages (from google-auth<3,>=1.6.3->tensorboard>=2.4.1->-r requirements.txt (line 22)) (4.9)\n",
            "Requirement already satisfied: pyasn1-modules>=0.2.1 in /usr/local/lib/python3.8/dist-packages (from google-auth<3,>=1.6.3->tensorboard>=2.4.1->-r requirements.txt (line 22)) (0.2.8)\n",
            "Requirement already satisfied: cachetools<6.0,>=2.0.0 in /usr/local/lib/python3.8/dist-packages (from google-auth<3,>=1.6.3->tensorboard>=2.4.1->-r requirements.txt (line 22)) (5.2.0)\n",
            "Requirement already satisfied: six>=1.9.0 in /usr/local/lib/python3.8/dist-packages (from google-auth<3,>=1.6.3->tensorboard>=2.4.1->-r requirements.txt (line 22)) (1.15.0)\n",
            "Requirement already satisfied: requests-oauthlib>=0.7.0 in /usr/local/lib/python3.8/dist-packages (from google-auth-oauthlib<0.5,>=0.4.1->tensorboard>=2.4.1->-r requirements.txt (line 22)) (1.3.1)\n",
            "Requirement already satisfied: importlib-metadata>=4.4 in /usr/local/lib/python3.8/dist-packages (from markdown>=2.6.8->tensorboard>=2.4.1->-r requirements.txt (line 22)) (5.1.0)\n",
            "Requirement already satisfied: zipp>=0.5 in /usr/local/lib/python3.8/dist-packages (from importlib-metadata>=4.4->markdown>=2.6.8->tensorboard>=2.4.1->-r requirements.txt (line 22)) (3.11.0)\n",
            "Requirement already satisfied: pyasn1<0.5.0,>=0.4.6 in /usr/local/lib/python3.8/dist-packages (from pyasn1-modules>=0.2.1->google-auth<3,>=1.6.3->tensorboard>=2.4.1->-r requirements.txt (line 22)) (0.4.8)\n",
            "Requirement already satisfied: oauthlib>=3.0.0 in /usr/local/lib/python3.8/dist-packages (from requests-oauthlib>=0.7.0->google-auth-oauthlib<0.5,>=0.4.1->tensorboard>=2.4.1->-r requirements.txt (line 22)) (3.2.2)\n",
            "Collecting gitdb<5,>=4.0.1\n",
            "  Downloading gitdb-4.0.10-py3-none-any.whl (62 kB)\n",
            "\u001b[K     |████████████████████████████████| 62 kB 1.2 MB/s \n",
            "\u001b[?25hCollecting smmap<6,>=3.0.1\n",
            "  Downloading smmap-5.0.0-py3-none-any.whl (24 kB)\n",
            "Collecting jedi>=0.10\n",
            "  Downloading jedi-0.18.2-py2.py3-none-any.whl (1.6 MB)\n",
            "\u001b[K     |████████████████████████████████| 1.6 MB 62.9 MB/s \n",
            "\u001b[?25hRequirement already satisfied: pygments in /usr/local/lib/python3.8/dist-packages (from ipython->-r requirements.txt (line 6)) (2.6.1)\n",
            "Requirement already satisfied: backcall in /usr/local/lib/python3.8/dist-packages (from ipython->-r requirements.txt (line 6)) (0.2.0)\n",
            "Requirement already satisfied: pickleshare in /usr/local/lib/python3.8/dist-packages (from ipython->-r requirements.txt (line 6)) (0.7.5)\n",
            "Requirement already satisfied: traitlets>=4.2 in /usr/local/lib/python3.8/dist-packages (from ipython->-r requirements.txt (line 6)) (5.7.1)\n",
            "Requirement already satisfied: pexpect in /usr/local/lib/python3.8/dist-packages (from ipython->-r requirements.txt (line 6)) (4.8.0)\n",
            "Requirement already satisfied: decorator in /usr/local/lib/python3.8/dist-packages (from ipython->-r requirements.txt (line 6)) (4.4.2)\n",
            "Requirement already satisfied: prompt-toolkit<2.1.0,>=2.0.0 in /usr/local/lib/python3.8/dist-packages (from ipython->-r requirements.txt (line 6)) (2.0.10)\n",
            "Requirement already satisfied: parso<0.9.0,>=0.8.0 in /usr/local/lib/python3.8/dist-packages (from jedi>=0.10->ipython->-r requirements.txt (line 6)) (0.8.3)\n",
            "Requirement already satisfied: wcwidth in /usr/local/lib/python3.8/dist-packages (from prompt-toolkit<2.1.0,>=2.0.0->ipython->-r requirements.txt (line 6)) (0.2.5)\n",
            "Requirement already satisfied: ptyprocess>=0.5 in /usr/local/lib/python3.8/dist-packages (from pexpect->ipython->-r requirements.txt (line 6)) (0.7.0)\n",
            "Installing collected packages: smmap, jedi, gitdb, thop, gitpython\n",
            "Successfully installed gitdb-4.0.10 gitpython-3.1.29 jedi-0.18.2 smmap-5.0.0 thop-0.1.1.post2209072238\n"
          ]
        }
      ],
      "source": [
        "!pip install -r requirements.txt"
      ]
    },
    {
      "cell_type": "code",
      "execution_count": null,
      "metadata": {
        "id": "4soXXUSlIKHo"
      },
      "outputs": [],
      "source": [
        "import cv2\n",
        "\n",
        "import os\n",
        "import sklearn\n",
        "from sklearn.model_selection import train_test_split"
      ]
    },
    {
      "cell_type": "code",
      "execution_count": null,
      "metadata": {
        "id": "qH1YjDY2IMQY",
        "colab": {
          "base_uri": "https://localhost:8080/"
        },
        "outputId": "b44388d8-e242-448c-e209-c248297f10ef"
      },
      "outputs": [
        {
          "output_type": "stream",
          "name": "stdout",
          "text": [
            "['10.jpg', '1.jpg', '106.jpg', '110.jpg', '109.jpg', '104.jpg', '100.jpg', '112.jpg', '11.jpg', '103.jpg', '113.jpg', '108.jpg', '105.jpg', '101.jpg', '107.jpg', '102.jpg', '111.jpg', '117.jpg', '122.jpg', '120.jpg', '121.jpg', '114.jpg', '118.jpg', '116.jpg', '119.jpg', '12.jpg', '115.jpg', '204.jpg', '142.jpg', '132.jpg', '137.jpg', '166.jpg', '129.jpg', '178.jpg', '127.jpg', '189.jpg', '152.jpg', '174.jpg', '158.jpg', '181.jpg', '17.jpg', '184.jpg', '168.jpg', '173.jpg', '136.jpg', '153.jpg', '200.jpg', '195.jpg', '211.jpg', '154.jpg', '169.jpg', '215.jpg', '192.jpg', '162.jpg', '155.jpg', '208.jpg', '148.jpg', '213.jpg', '203.jpg', '182.jpg', '216.jpg', '180.jpg', '20.jpg', '147.jpg', '185.jpg', '212.jpg', '131.jpg', '159.jpg', '141.jpg', '16.jpg', '172.jpg', '175.jpg', '201.jpg', '125.jpg', '179.jpg', '186.jpg', '134.jpg', '21.jpg', '143.jpg', '150.jpg', '205.jpg', '167.jpg', '197.jpg', '13.jpg', '190.jpg', '157.jpg', '19.jpg', '138.jpg', '191.jpg', '210.jpg', '145.jpg', '199.jpg', '135.jpg', '209.jpg', '163.jpg', '15.jpg', '126.jpg', '130.jpg', '187.jpg', '128.jpg', '140.jpg', '160.jpg', '165.jpg', '2.jpg', '194.jpg', '146.jpg', '218.jpg', '188.jpg', '133.jpg', '161.jpg', '164.jpg', '139.jpg', '214.jpg', '18.jpg', '176.jpg', '171.jpg', '177.jpg', '206.jpg', '207.jpg', '219.jpg', '198.jpg', '149.jpg', '14.jpg', '151.jpg', '170.jpg', '183.jpg', '144.jpg', '202.jpg', '156.jpg', '196.jpg', '123.jpg', '193.jpg', '217.jpg', '249.jpg', '259.jpg', '263.jpg', '221.jpg', '230.jpg', '28.jpg', '252.jpg', '266.jpg', '280.jpg', '245.jpg', '277.jpg', '276.jpg', '25.jpg', '239.jpg', '265.jpg', '220.jpg', '232.jpg', '278.jpg', '281.jpg', '240.jpg', '273.jpg', '258.jpg', '257.jpg', '274.jpg', '262.jpg', '264.jpg', '242.jpg', '244.jpg', '250.jpg', '235.jpg', '238.jpg', '270.jpg', '267.jpg', '237.jpg', '23.jpg', '271.jpg', '246.jpg', '279.jpg', '222.jpg', '243.jpg', '225.jpg', '26.jpg', '254.jpg', '261.jpg', '224.jpg', '27.jpg', '236.jpg', '268.jpg', '223.jpg', '234.jpg', '253.jpg', '22.jpg', '226.jpg', '228.jpg', '227.jpg', '272.jpg', '233.jpg', '231.jpg', '255.jpg', '247.jpg', '256.jpg', '251.jpg', '248.jpg', '24.jpg', '275.jpg', '269.jpg', '241.jpg', '260.jpg', '287.jpg', '303.jpg', '289.jpg', '305.jpg', '29.jpg', '307.jpg', '286.jpg', '296.jpg', '282.jpg', '302.jpg', '283.jpg', '298.jpg', '308.jpg', '310.jpg', '284.jpg', '306.jpg', '295.jpg', '292.jpg', '31.jpg', '285.jpg', '34.jpg', '304.jpg', '299.jpg', '32.jpg', '30.jpg', '290.jpg', '291.jpg', '297.jpg', '288.jpg', '309.jpg', '3.jpg', '35.jpg', '301.jpg', '33.jpg', '294.jpg', '300.jpg', '293.jpg', '42.jpg', '40.jpg', '4.jpg', '39.jpg', '37.jpg', '43.jpg', '41.jpg', '38.jpg', '36.jpg', '5.jpg', '46.jpg', '47.jpg', '50.jpg', '51.jpg', '49.jpg', '45.jpg', '44.jpg', '48.jpg', '56.jpg', '52.jpg', '54.jpg', '53.jpg', '58.jpg', '55.jpg', '57.jpg', '59.jpg', '79.jpg', '81.jpg', '98.jpg', '72.jpg', '78.jpg', '87.jpg', '97.jpg', '92.jpg', '7.jpg', '68.jpg', '65.jpg', '9.jpg', '73.jpg', '75.jpg', '86.jpg', '76.jpg', '77.jpg', '71.jpg', '95.jpg', '6.jpg', '85.jpg', '82.jpg', '83.jpg', '61.jpg', '70.jpg', '96.jpg', '80.jpg', '62.jpg', '93.jpg', '60.jpg', '74.jpg', '89.jpg', '99.jpg', '91.jpg', '88.jpg', '84.jpg', '8.jpg', '94.jpg', '63.jpg', '69.jpg', '90.jpg', '64.jpg', '66.jpg', '67.jpg', '804.jpg', '801.jpg', '805.jpg', '802.jpg', '807.jpg', '806.jpg', '803.jpg', '1014.jpg', '828.jpg', '843.jpg', '826.jpg', '844.jpg', '853.jpg', '824.jpg', '856.jpg', '855.jpg', '841.jpg', '811.jpg', '859.jpg', '845.jpg', '833.jpg', '850.jpg', '810.jpg', '823.jpg', '821.jpg', '838.jpg', '816.jpg', '852.jpg', '857.jpg', '849.jpg', '832.jpg', '834.jpg', '815.jpg', '808.jpg', '820.jpg', '809.jpg', '830.jpg', '840.jpg', '842.jpg', '825.jpg', '847.jpg', '814.jpg', '860.jpg', '835.jpg', '822.jpg', '848.jpg', '829.jpg', '837.jpg', '812.jpg', '839.jpg', '836.jpg', '846.jpg', '854.jpg', '858.jpg', '819.jpg', '827.jpg', '851.jpg', '813.jpg', '818.jpg', '831.jpg', '817.jpg', '865.jpg', '867.jpg', '864.jpg', '872.jpg', '877.jpg', '869.jpg', '882.jpg', '878.jpg', '880.jpg', '873.jpg', '870.jpg', '863.jpg', '879.jpg', '875.jpg', '871.jpg', '881.jpg', '874.jpg', '876.jpg', '868.jpg', '866.jpg', '862.jpg', '861.jpg', '909.jpg', '911.jpg', '914.jpg', '886.jpg', '893.jpg', '906.jpg', '901.jpg', '887.jpg', '912.jpg', '894.jpg', '904.jpg', '915.jpg', '884.jpg', '910.jpg', '891.jpg', '883.jpg', '896.jpg', '897.jpg', '903.jpg', '885.jpg', '917.jpg', '913.jpg', '892.jpg', '907.jpg', '905.jpg', '889.jpg', '899.jpg', '898.jpg', '916.jpg', '888.jpg', '900.jpg', '895.jpg', '902.jpg', '908.jpg', '890.jpg', '968.jpg', '951.jpg', '961.jpg', '982.jpg', '949.jpg', '954.jpg', '963.jpg', '931.jpg', '934.jpg', '930.jpg', '940.jpg', '972.jpg', '945.jpg', '946.jpg', '937.jpg', '918.jpg', '980.jpg', '939.jpg', '941.jpg', '953.jpg', '966.jpg', '933.jpg', '938.jpg', '983.jpg', '976.jpg', '925.jpg', '948.jpg', '942.jpg', '958.jpg', '955.jpg', '959.jpg', '920.jpg', '977.jpg', '923.jpg', '967.jpg', '988.jpg', '947.jpg', '932.jpg', '957.jpg', '986.jpg', '944.jpg', '943.jpg', '936.jpg', '935.jpg', '964.jpg', '979.jpg', '987.jpg', '969.jpg', '929.jpg', '922.jpg', '973.jpg', '924.jpg', '952.jpg', '928.jpg', '989.jpg', '985.jpg', '950.jpg', '962.jpg', '984.jpg', '974.jpg', '978.jpg', '927.jpg', '921.jpg', '926.jpg', '971.jpg', '965.jpg', '981.jpg', '956.jpg', '960.jpg', '970.jpg', '975.jpg', '919.jpg', '998.jpg', '1008.jpg', '993.jpg', '1009.jpg', '997.jpg', '992.jpg', '1006.jpg', '1002.jpg', '999.jpg', '1003.jpg', '991.jpg', '1001.jpg', '995.jpg', '994.jpg', '1013.jpg', '996.jpg', '1010.jpg', '1005.jpg', '1012.jpg', '1007.jpg', '990.jpg', '1000.jpg', '1004.jpg', '1011.jpg', '713.jpg', '719.jpg', '695.jpg', '707.jpg', '715.jpg', '700.jpg', '716.jpg', '706.jpg', '714.jpg', '698.jpg', '704.jpg', '628.jpg', '689.jpg', '685.jpg', '688.jpg', '694.jpg', '629.jpg', '710.jpg', '712.jpg', '717.jpg', '718.jpg', '705.jpg', '627.jpg', '702.jpg', '692.jpg', '720.jpg', '696.jpg', '699.jpg', '682.jpg', '693.jpg', '709.jpg', '711.jpg', '701.jpg', '703.jpg', '690.jpg', '708.jpg', '697.jpg', '655.jpg', '650.jpg', '624.jpg', '662.jpg', '665.jpg', '683.jpg', '657.jpg', '645.jpg', '647.jpg', '681.jpg', '625.jpg', '672.jpg', '666.jpg', '691.jpg', '686.jpg', '623.jpg', '678.jpg', '679.jpg', '687.jpg', '675.jpg', '677.jpg', '668.jpg', '670.jpg', '671.jpg', '661.jpg', '669.jpg', '626.jpg', '649.jpg', '646.jpg', '659.jpg', '680.jpg', '648.jpg', '652.jpg', '674.jpg', '651.jpg', '654.jpg', '667.jpg', '676.jpg', '673.jpg', '663.jpg', '653.jpg', '644.jpg', '664.jpg', '684.jpg', '658.jpg', '643.jpg', '639.jpg', '640.jpg', '633.jpg', '636.jpg', '637.jpg', '642.jpg', '635.jpg', '634.jpg', '622.jpg', '638.jpg', '660.jpg', '641.jpg', '631.jpg', '730.jpg', '630.jpg', '724.jpg', '632.jpg', '621.jpg', '734.jpg', '723.jpg', '722.jpg', '736.jpg', '733.jpg', '735.jpg', '731.jpg', '726.jpg', '725.jpg', '727.jpg', '729.jpg', '721.jpg', '728.jpg', '732.jpg', '311.jpg', '312.jpg', '357.jpg', '322.jpg', '346.jpg', '374.jpg', '344.jpg', '351.jpg', '342.jpg', '369.jpg', '368.jpg', '353.jpg', '318.jpg', '359.jpg', '324.jpg', '352.jpg', '316.jpg', '370.jpg', '367.jpg', '334.jpg', '323.jpg', '332.jpg', '360.jpg', '319.jpg', '331.jpg', '348.jpg', '321.jpg', '327.jpg', '373.jpg', '326.jpg', '335.jpg', '336.jpg', '338.jpg', '365.jpg', '325.jpg', '329.jpg', '349.jpg', '366.jpg', '363.jpg', '314.jpg', '333.jpg', '313.jpg', '317.jpg', '337.jpg', '364.jpg', '341.jpg', '358.jpg', '340.jpg', '339.jpg', '350.jpg', '362.jpg', '372.jpg', '320.jpg', '354.jpg', '347.jpg', '356.jpg', '328.jpg', '330.jpg', '345.jpg', '315.jpg', '371.jpg', '361.jpg', '355.jpg', '343.jpg', '430.jpg', '402.jpg', '443.jpg', '433.jpg', '404.jpg', '431.jpg', '444.jpg', '407.jpg', '397.jpg', '400.jpg', '449.jpg', '375.jpg', '399.jpg', '377.jpg', '379.jpg', '423.jpg', '441.jpg', '429.jpg', '411.jpg', '416.jpg', '412.jpg', '440.jpg', '414.jpg', '382.jpg', '424.jpg', '385.jpg', '427.jpg', '396.jpg', '417.jpg', '394.jpg', '447.jpg', '387.jpg', '422.jpg', '428.jpg', '393.jpg', '381.jpg', '446.jpg', '401.jpg', '386.jpg', '413.jpg', '398.jpg', '420.jpg', '437.jpg', '421.jpg', '435.jpg', '406.jpg', '438.jpg', '390.jpg', '418.jpg', '442.jpg', '383.jpg', '376.jpg', '405.jpg', '392.jpg', '384.jpg', '434.jpg', '409.jpg', '436.jpg', '410.jpg', '403.jpg', '445.jpg', '395.jpg', '425.jpg', '419.jpg', '378.jpg', '432.jpg', '439.jpg', '408.jpg', '389.jpg', '388.jpg', '391.jpg', '380.jpg', '415.jpg', '426.jpg', '473.jpg', '492.jpg', '528.jpg', '480.jpg', '471.jpg', '463.jpg', '481.jpg', '521.jpg', '486.jpg', '506.jpg', '474.jpg', '461.jpg', '462.jpg', '499.jpg', '495.jpg', '460.jpg', '519.jpg', '502.jpg', '526.jpg', '527.jpg', '515.jpg', '470.jpg', '520.jpg', '509.jpg', '510.jpg', '505.jpg', '497.jpg', '488.jpg', '529.jpg', '511.jpg', '478.jpg', '487.jpg', '464.jpg', '479.jpg', '482.jpg', '493.jpg', '454.jpg', '514.jpg', '508.jpg', '472.jpg', '453.jpg', '475.jpg', '516.jpg', '477.jpg', '484.jpg', '498.jpg', '489.jpg', '525.jpg', '459.jpg', '467.jpg', '522.jpg', '455.jpg', '466.jpg', '524.jpg', '512.jpg', '507.jpg', '523.jpg', '500.jpg', '494.jpg', '504.jpg', '501.jpg', '518.jpg', '456.jpg', '457.jpg', '490.jpg', '491.jpg', '451.jpg', '496.jpg', '483.jpg', '476.jpg', '450.jpg', '469.jpg', '458.jpg', '465.jpg', '517.jpg', '485.jpg', '513.jpg', '452.jpg', '468.jpg', '503.jpg', '572.jpg', '589.jpg', '599.jpg', '538.jpg', '586.jpg', '568.jpg', '553.jpg', '600.jpg', '583.jpg', '535.jpg', '570.jpg', '558.jpg', '567.jpg', '545.jpg', '539.jpg', '546.jpg', '541.jpg', '597.jpg', '534.jpg', '607.jpg', '549.jpg', '564.jpg', '537.jpg', '559.jpg', '576.jpg', '595.jpg', '530.jpg', '598.jpg', '543.jpg', '548.jpg', '551.jpg', '575.jpg', '571.jpg', '592.jpg', '560.jpg', '574.jpg', '582.jpg', '573.jpg', '531.jpg', '577.jpg', '588.jpg', '547.jpg', '532.jpg', '587.jpg', '536.jpg', '584.jpg', '550.jpg', '608.jpg', '565.jpg', '581.jpg', '562.jpg', '590.jpg', '585.jpg', '540.jpg', '533.jpg', '566.jpg', '605.jpg', '609.jpg', '579.jpg', '593.jpg', '561.jpg', '563.jpg', '542.jpg', '603.jpg', '601.jpg', '602.jpg', '552.jpg', '578.jpg', '557.jpg', '554.jpg', '606.jpg', '556.jpg', '580.jpg', '555.jpg', '544.jpg', '594.jpg', '569.jpg', '604.jpg', '596.jpg', '591.jpg', '613.jpg', '610.jpg', '614.jpg', '615.jpg', '612.jpg', '618.jpg', '617.jpg', '616.jpg', '619.jpg', '611.jpg', '620.jpg']\n",
            "756\n"
          ]
        }
      ],
      "source": [
        "img_path=\"/content/drive/MyDrive/imgs\"\n",
        "train_path=\"/content/drive/MyDrive/train\"\n",
        "test_path=\"/content/drive/MyDrive/test\"\n",
        "img=os.listdir(img_path)\n",
        "print(img)\n",
        "# print(os.listdir(img_path))\n",
        "x_train,x_test=train_test_split(img,train_size=0.8,test_size=0.2)\n",
        "# # print(len(x_test)),\n",
        "print(len(x_train))\n",
        "# for i in x_train:\n",
        "\n",
        "#   cv2.imwrite(os.path.join(train_path,i),cv2.imread(os.path.join(img_path,i)))\n",
        "# for i in x_test:\n",
        "\n",
        "#   cv2.imwrite(os.path.join(test_path,i),cv2.imread(os.path.join(img_path,i)))  \n",
        "# for i in x_test:\n",
        "#   cv2.remove(os.path.join(test_path,i),cv2.imread(os.path.join(img_path,i)))\n",
        "\n",
        "//multiscale feature extraction"
      ]
    },
    {
      "cell_type": "code",
      "execution_count": null,
      "metadata": {
        "colab": {
          "base_uri": "https://localhost:8080/"
        },
        "id": "AHzDpS1mKbBl",
        "outputId": "8af380e3-8ba9-4563-bac5-30b90e6865c7"
      },
      "outputs": [
        {
          "output_type": "stream",
          "name": "stdout",
          "text": [
            "\u001b[34m\u001b[1mtrain: \u001b[0mweights=yolov5s.pt, cfg=, data=/content/drive/MyDrive/dataset/yml.yaml, hyp=data/hyps/hyp.scratch-low.yaml, epochs=30, batch_size=16, imgsz=415, rect=False, resume=False, nosave=False, noval=False, noautoanchor=False, noplots=False, evolve=None, bucket=, cache=ram, image_weights=False, device=, multi_scale=False, single_cls=False, optimizer=SGD, sync_bn=False, workers=8, project=runs/train, name=exp, exist_ok=False, quad=False, cos_lr=False, label_smoothing=0.0, patience=100, freeze=[0], save_period=-1, seed=0, local_rank=-1, entity=None, upload_dataset=False, bbox_interval=-1, artifact_alias=latest\n",
            "\u001b[34m\u001b[1mgithub: \u001b[0mup to date with https://github.com/ultralytics/yolov5 ✅\n",
            "YOLOv5 🚀 v7.0-32-g357cde9 Python-3.8.16 torch-1.13.0+cu116 CUDA:0 (Tesla T4, 15110MiB)\n",
            "\n",
            "\u001b[34m\u001b[1mhyperparameters: \u001b[0mlr0=0.01, lrf=0.01, momentum=0.937, weight_decay=0.0005, warmup_epochs=3.0, warmup_momentum=0.8, warmup_bias_lr=0.1, box=0.05, cls=0.5, cls_pw=1.0, obj=1.0, obj_pw=1.0, iou_t=0.2, anchor_t=4.0, fl_gamma=0.0, hsv_h=0.015, hsv_s=0.7, hsv_v=0.4, degrees=0.0, translate=0.1, scale=0.5, shear=0.0, perspective=0.0, flipud=0.0, fliplr=0.5, mosaic=1.0, mixup=0.0, copy_paste=0.0\n",
            "\u001b[34m\u001b[1mClearML: \u001b[0mrun 'pip install clearml' to automatically track, visualize and remotely train YOLOv5 🚀 in ClearML\n",
            "\u001b[34m\u001b[1mComet: \u001b[0mrun 'pip install comet_ml' to automatically track and visualize YOLOv5 🚀 runs in Comet\n",
            "\u001b[34m\u001b[1mTensorBoard: \u001b[0mStart with 'tensorboard --logdir runs/train', view at http://localhost:6006/\n",
            "Overriding model.yaml nc=80 with nc=1\n",
            "\n",
            "                 from  n    params  module                                  arguments                     \n",
            "  0                -1  1      3520  models.common.Conv                      [3, 32, 6, 2, 2]              \n",
            "  1                -1  1     18560  models.common.Conv                      [32, 64, 3, 2]                \n",
            "  2                -1  1     18816  models.common.C3                        [64, 64, 1]                   \n",
            "  3                -1  1     73984  models.common.Conv                      [64, 128, 3, 2]               \n",
            "  4                -1  2    115712  models.common.C3                        [128, 128, 2]                 \n",
            "  5                -1  1    295424  models.common.Conv                      [128, 256, 3, 2]              \n",
            "  6                -1  3    625152  models.common.C3                        [256, 256, 3]                 \n",
            "  7                -1  1   1180672  models.common.Conv                      [256, 512, 3, 2]              \n",
            "  8                -1  1   1182720  models.common.C3                        [512, 512, 1]                 \n",
            "  9                -1  1    656896  models.common.SPPF                      [512, 512, 5]                 \n",
            " 10                -1  1    131584  models.common.Conv                      [512, 256, 1, 1]              \n",
            " 11                -1  1         0  torch.nn.modules.upsampling.Upsample    [None, 2, 'nearest']          \n",
            " 12           [-1, 6]  1         0  models.common.Concat                    [1]                           \n",
            " 13                -1  1    361984  models.common.C3                        [512, 256, 1, False]          \n",
            " 14                -1  1     33024  models.common.Conv                      [256, 128, 1, 1]              \n",
            " 15                -1  1         0  torch.nn.modules.upsampling.Upsample    [None, 2, 'nearest']          \n",
            " 16           [-1, 4]  1         0  models.common.Concat                    [1]                           \n",
            " 17                -1  1     90880  models.common.C3                        [256, 128, 1, False]          \n",
            " 18                -1  1    147712  models.common.Conv                      [128, 128, 3, 2]              \n",
            " 19          [-1, 14]  1         0  models.common.Concat                    [1]                           \n",
            " 20                -1  1    296448  models.common.C3                        [256, 256, 1, False]          \n",
            " 21                -1  1    590336  models.common.Conv                      [256, 256, 3, 2]              \n",
            " 22          [-1, 10]  1         0  models.common.Concat                    [1]                           \n",
            " 23                -1  1   1182720  models.common.C3                        [512, 512, 1, False]          \n",
            " 24      [17, 20, 23]  1     16182  models.yolo.Detect                      [1, [[10, 13, 16, 30, 33, 23], [30, 61, 62, 45, 59, 119], [116, 90, 156, 198, 373, 326]], [128, 256, 512]]\n",
            "Model summary: 214 layers, 7022326 parameters, 7022326 gradients, 15.9 GFLOPs\n",
            "\n",
            "Transferred 343/349 items from yolov5s.pt\n",
            "\u001b[34m\u001b[1mAMP: \u001b[0mchecks passed ✅\n",
            "WARNING ⚠️ --img-size 415 must be multiple of max stride 32, updating to 416\n",
            "\u001b[34m\u001b[1moptimizer:\u001b[0m SGD(lr=0.01) with parameter groups 57 weight(decay=0.0), 60 weight(decay=0.0005), 60 bias\n",
            "\u001b[34m\u001b[1malbumentations: \u001b[0mBlur(p=0.01, blur_limit=(3, 7)), MedianBlur(p=0.01, blur_limit=(3, 7)), ToGray(p=0.01), CLAHE(p=0.01, clip_limit=(1, 4.0), tile_grid_size=(8, 8))\n",
            "\u001b[34m\u001b[1mtrain: \u001b[0mScanning /content/drive/MyDrive/dataset/labels/train.cache... 753 images, 1 backgrounds, 72 corrupt: 100% 755/755 [00:00<?, ?it/s]\n",
            "\u001b[34m\u001b[1mtrain: \u001b[0mWARNING ⚠️ /content/drive/MyDrive/dataset/images/train/1001.jpg: ignoring corrupt image/label: non-normalized or out of bounds coordinates [     1.0711]\n",
            "\u001b[34m\u001b[1mtrain: \u001b[0mWARNING ⚠️ /content/drive/MyDrive/dataset/images/train/1006.jpg: ignoring corrupt image/label: non-normalized or out of bounds coordinates [     1.0758      1.0544]\n",
            "\u001b[34m\u001b[1mtrain: \u001b[0mWARNING ⚠️ /content/drive/MyDrive/dataset/images/train/1008.jpg: ignoring corrupt image/label: non-normalized or out of bounds coordinates [     1.3767      1.7385        2.66      1.5795]\n",
            "\u001b[34m\u001b[1mtrain: \u001b[0mWARNING ⚠️ /content/drive/MyDrive/dataset/images/train/1011.jpg: ignoring corrupt image/label: non-normalized or out of bounds coordinates [     1.0321      1.1622]\n",
            "\u001b[34m\u001b[1mtrain: \u001b[0mWARNING ⚠️ /content/drive/MyDrive/dataset/images/train/299.jpg: ignoring corrupt image/label: invalid image format GIF\n",
            "\u001b[34m\u001b[1mtrain: \u001b[0mWARNING ⚠️ /content/drive/MyDrive/dataset/images/train/314.jpg: corrupt JPEG restored and saved\n",
            "\u001b[34m\u001b[1mtrain: \u001b[0mWARNING ⚠️ /content/drive/MyDrive/dataset/images/train/330.jpg: corrupt JPEG restored and saved\n",
            "\u001b[34m\u001b[1mtrain: \u001b[0mWARNING ⚠️ /content/drive/MyDrive/dataset/images/train/478.jpg: ignoring corrupt image/label: invalid image format GIF\n",
            "\u001b[34m\u001b[1mtrain: \u001b[0mWARNING ⚠️ /content/drive/MyDrive/dataset/images/train/808.jpg: ignoring corrupt image/label: non-normalized or out of bounds coordinates [     1.2648]\n",
            "\u001b[34m\u001b[1mtrain: \u001b[0mWARNING ⚠️ /content/drive/MyDrive/dataset/images/train/809.jpg: ignoring corrupt image/label: non-normalized or out of bounds coordinates [     1.2824      1.2389      2.5014      2.1741      1.0346      1.0204      1.1297]\n",
            "\u001b[34m\u001b[1mtrain: \u001b[0mWARNING ⚠️ /content/drive/MyDrive/dataset/images/train/810.jpg: ignoring corrupt image/label: non-normalized or out of bounds coordinates [     1.2587       1.019       1.044      1.9357       1.244        1.85        1.85      1.6937]\n",
            "\u001b[34m\u001b[1mtrain: \u001b[0mWARNING ⚠️ /content/drive/MyDrive/dataset/images/train/818.jpg: ignoring corrupt image/label: non-normalized or out of bounds coordinates [     1.1047      1.0289      1.2492]\n",
            "\u001b[34m\u001b[1mtrain: \u001b[0mWARNING ⚠️ /content/drive/MyDrive/dataset/images/train/819.jpg: ignoring corrupt image/label: non-normalized or out of bounds coordinates [     1.1058      1.0681       1.113]\n",
            "\u001b[34m\u001b[1mtrain: \u001b[0mWARNING ⚠️ /content/drive/MyDrive/dataset/images/train/821.jpg: ignoring corrupt image/label: non-normalized or out of bounds coordinates [     1.1026]\n",
            "\u001b[34m\u001b[1mtrain: \u001b[0mWARNING ⚠️ /content/drive/MyDrive/dataset/images/train/824.jpg: ignoring corrupt image/label: non-normalized or out of bounds coordinates [     1.4533      1.1133      1.6183      1.8167      2.0967      2.0867        1.38      1.6467      2.8333      1.7883         1.9]\n",
            "\u001b[34m\u001b[1mtrain: \u001b[0mWARNING ⚠️ /content/drive/MyDrive/dataset/images/train/825.jpg: ignoring corrupt image/label: non-normalized or out of bounds coordinates [     1.0288]\n",
            "\u001b[34m\u001b[1mtrain: \u001b[0mWARNING ⚠️ /content/drive/MyDrive/dataset/images/train/830.jpg: ignoring corrupt image/label: non-normalized or out of bounds coordinates [     1.1993]\n",
            "\u001b[34m\u001b[1mtrain: \u001b[0mWARNING ⚠️ /content/drive/MyDrive/dataset/images/train/832.jpg: ignoring corrupt image/label: non-normalized or out of bounds coordinates [     1.0426      1.0272      1.0981]\n",
            "\u001b[34m\u001b[1mtrain: \u001b[0mWARNING ⚠️ /content/drive/MyDrive/dataset/images/train/833.jpg: ignoring corrupt image/label: non-normalized or out of bounds coordinates [      1.082]\n",
            "\u001b[34m\u001b[1mtrain: \u001b[0mWARNING ⚠️ /content/drive/MyDrive/dataset/images/train/834.jpg: ignoring corrupt image/label: non-normalized or out of bounds coordinates [     1.1545]\n",
            "\u001b[34m\u001b[1mtrain: \u001b[0mWARNING ⚠️ /content/drive/MyDrive/dataset/images/train/835.jpg: ignoring corrupt image/label: non-normalized or out of bounds coordinates [     1.2547      1.0675]\n",
            "\u001b[34m\u001b[1mtrain: \u001b[0mWARNING ⚠️ /content/drive/MyDrive/dataset/images/train/836.jpg: ignoring corrupt image/label: non-normalized or out of bounds coordinates [     1.0829      1.0213        1.11      1.0036      1.0217      1.1055      1.0791]\n",
            "\u001b[34m\u001b[1mtrain: \u001b[0mWARNING ⚠️ /content/drive/MyDrive/dataset/images/train/838.jpg: ignoring corrupt image/label: non-normalized or out of bounds coordinates [     1.1311      1.0609      1.1089      1.1375      1.3586      1.1016]\n",
            "\u001b[34m\u001b[1mtrain: \u001b[0mWARNING ⚠️ /content/drive/MyDrive/dataset/images/train/840.jpg: ignoring corrupt image/label: non-normalized or out of bounds coordinates [      1.015      1.3425]\n",
            "\u001b[34m\u001b[1mtrain: \u001b[0mWARNING ⚠️ /content/drive/MyDrive/dataset/images/train/841.jpg: ignoring corrupt image/label: non-normalized or out of bounds coordinates [     1.1683      1.2103      1.0715      1.1088      1.0183]\n",
            "\u001b[34m\u001b[1mtrain: \u001b[0mWARNING ⚠️ /content/drive/MyDrive/dataset/images/train/843.jpg: ignoring corrupt image/label: non-normalized or out of bounds coordinates [     1.0325      1.0956]\n",
            "\u001b[34m\u001b[1mtrain: \u001b[0mWARNING ⚠️ /content/drive/MyDrive/dataset/images/train/844.jpg: ignoring corrupt image/label: non-normalized or out of bounds coordinates [     1.0314]\n",
            "\u001b[34m\u001b[1mtrain: \u001b[0mWARNING ⚠️ /content/drive/MyDrive/dataset/images/train/845.jpg: ignoring corrupt image/label: non-normalized or out of bounds coordinates [     1.2099]\n",
            "\u001b[34m\u001b[1mtrain: \u001b[0mWARNING ⚠️ /content/drive/MyDrive/dataset/images/train/849.jpg: ignoring corrupt image/label: non-normalized or out of bounds coordinates [     1.3646      1.8146]\n",
            "\u001b[34m\u001b[1mtrain: \u001b[0mWARNING ⚠️ /content/drive/MyDrive/dataset/images/train/852.jpg: ignoring corrupt image/label: non-normalized or out of bounds coordinates [     1.1021      1.0843      1.2041      1.3878      1.3441      1.1272      1.6461]\n",
            "\u001b[34m\u001b[1mtrain: \u001b[0mWARNING ⚠️ /content/drive/MyDrive/dataset/images/train/855.jpg: ignoring corrupt image/label: non-normalized or out of bounds coordinates [     1.0321]\n",
            "\u001b[34m\u001b[1mtrain: \u001b[0mWARNING ⚠️ /content/drive/MyDrive/dataset/images/train/857.jpg: ignoring corrupt image/label: non-normalized or out of bounds coordinates [      1.632      1.5841        1.08       2.462      1.0631]\n",
            "\u001b[34m\u001b[1mtrain: \u001b[0mWARNING ⚠️ /content/drive/MyDrive/dataset/images/train/858.jpg: ignoring corrupt image/label: non-normalized or out of bounds coordinates [     1.5013      1.2967      1.4125      1.4475        1.56]\n",
            "\u001b[34m\u001b[1mtrain: \u001b[0mWARNING ⚠️ /content/drive/MyDrive/dataset/images/train/859.jpg: ignoring corrupt image/label: non-normalized or out of bounds coordinates [     1.5329      1.4338      1.2943]\n",
            "\u001b[34m\u001b[1mtrain: \u001b[0mWARNING ⚠️ /content/drive/MyDrive/dataset/images/train/862.jpg: ignoring corrupt image/label: non-normalized or out of bounds coordinates [     1.2735]\n",
            "\u001b[34m\u001b[1mtrain: \u001b[0mWARNING ⚠️ /content/drive/MyDrive/dataset/images/train/866.jpg: ignoring corrupt image/label: non-normalized or out of bounds coordinates [     1.2197      1.7708       2.159]\n",
            "\u001b[34m\u001b[1mtrain: \u001b[0mWARNING ⚠️ /content/drive/MyDrive/dataset/images/train/867.jpg: ignoring corrupt image/label: non-normalized or out of bounds coordinates [     1.1244]\n",
            "\u001b[34m\u001b[1mtrain: \u001b[0mWARNING ⚠️ /content/drive/MyDrive/dataset/images/train/868.jpg: ignoring corrupt image/label: non-normalized or out of bounds coordinates [     1.1955      1.2598      1.2756      1.0945      1.0221]\n",
            "\u001b[34m\u001b[1mtrain: \u001b[0mWARNING ⚠️ /content/drive/MyDrive/dataset/images/train/870.jpg: ignoring corrupt image/label: non-normalized or out of bounds coordinates [     1.1743      1.4698      1.0095]\n",
            "\u001b[34m\u001b[1mtrain: \u001b[0mWARNING ⚠️ /content/drive/MyDrive/dataset/images/train/876.jpg: ignoring corrupt image/label: non-normalized or out of bounds coordinates [      1.415      1.1833      1.0187      1.3948]\n",
            "\u001b[34m\u001b[1mtrain: \u001b[0mWARNING ⚠️ /content/drive/MyDrive/dataset/images/train/878.jpg: ignoring corrupt image/label: non-normalized or out of bounds coordinates [      1.626      2.0073       2.211      1.7024]\n",
            "\u001b[34m\u001b[1mtrain: \u001b[0mWARNING ⚠️ /content/drive/MyDrive/dataset/images/train/882.jpg: ignoring corrupt image/label: non-normalized or out of bounds coordinates [     1.0755]\n",
            "\u001b[34m\u001b[1mtrain: \u001b[0mWARNING ⚠️ /content/drive/MyDrive/dataset/images/train/884.jpg: ignoring corrupt image/label: non-normalized or out of bounds coordinates [     1.0483       1.055]\n",
            "\u001b[34m\u001b[1mtrain: \u001b[0mWARNING ⚠️ /content/drive/MyDrive/dataset/images/train/885.jpg: ignoring corrupt image/label: non-normalized or out of bounds coordinates [      1.034]\n",
            "\u001b[34m\u001b[1mtrain: \u001b[0mWARNING ⚠️ /content/drive/MyDrive/dataset/images/train/901.jpg: ignoring corrupt image/label: non-normalized or out of bounds coordinates [     1.3929      1.5896       1.019]\n",
            "\u001b[34m\u001b[1mtrain: \u001b[0mWARNING ⚠️ /content/drive/MyDrive/dataset/images/train/902.jpg: ignoring corrupt image/label: non-normalized or out of bounds coordinates [      1.248      1.8213      2.2857      2.1426      1.2035      1.8375      1.1456      2.1402      1.1588]\n",
            "\u001b[34m\u001b[1mtrain: \u001b[0mWARNING ⚠️ /content/drive/MyDrive/dataset/images/train/906.jpg: ignoring corrupt image/label: non-normalized or out of bounds coordinates [     1.1057      1.2445]\n",
            "\u001b[34m\u001b[1mtrain: \u001b[0mWARNING ⚠️ /content/drive/MyDrive/dataset/images/train/908.jpg: ignoring corrupt image/label: non-normalized or out of bounds coordinates [     1.8783      1.9333      2.1633      2.0111]\n",
            "\u001b[34m\u001b[1mtrain: \u001b[0mWARNING ⚠️ /content/drive/MyDrive/dataset/images/train/913.jpg: ignoring corrupt image/label: non-normalized or out of bounds coordinates [     1.0843      1.0785]\n",
            "\u001b[34m\u001b[1mtrain: \u001b[0mWARNING ⚠️ /content/drive/MyDrive/dataset/images/train/914.jpg: ignoring corrupt image/label: non-normalized or out of bounds coordinates [     1.1612      1.0083      1.1875]\n",
            "\u001b[34m\u001b[1mtrain: \u001b[0mWARNING ⚠️ /content/drive/MyDrive/dataset/images/train/925.jpg: ignoring corrupt image/label: non-normalized or out of bounds coordinates [     1.0063      1.0812      1.0375]\n",
            "\u001b[34m\u001b[1mtrain: \u001b[0mWARNING ⚠️ /content/drive/MyDrive/dataset/images/train/926.jpg: ignoring corrupt image/label: non-normalized or out of bounds coordinates [     1.3133      1.8611      1.3733      1.3222      2.2633      2.6167      2.3056      1.2556]\n",
            "\u001b[34m\u001b[1mtrain: \u001b[0mWARNING ⚠️ /content/drive/MyDrive/dataset/images/train/936.jpg: ignoring corrupt image/label: non-normalized or out of bounds coordinates [     1.0773      1.6111      1.0515]\n",
            "\u001b[34m\u001b[1mtrain: \u001b[0mWARNING ⚠️ /content/drive/MyDrive/dataset/images/train/937.jpg: ignoring corrupt image/label: non-normalized or out of bounds coordinates [      1.084]\n",
            "\u001b[34m\u001b[1mtrain: \u001b[0mWARNING ⚠️ /content/drive/MyDrive/dataset/images/train/939.jpg: ignoring corrupt image/label: non-normalized or out of bounds coordinates [     1.1059      1.0311]\n",
            "\u001b[34m\u001b[1mtrain: \u001b[0mWARNING ⚠️ /content/drive/MyDrive/dataset/images/train/942.jpg: ignoring corrupt image/label: non-normalized or out of bounds coordinates [     1.8906      1.2075        1.95      1.7578      1.3398]\n",
            "\u001b[34m\u001b[1mtrain: \u001b[0mWARNING ⚠️ /content/drive/MyDrive/dataset/images/train/948.jpg: ignoring corrupt image/label: non-normalized or out of bounds coordinates [     1.1958      1.2333]\n",
            "\u001b[34m\u001b[1mtrain: \u001b[0mWARNING ⚠️ /content/drive/MyDrive/dataset/images/train/950.jpg: corrupt JPEG restored and saved\n",
            "\u001b[34m\u001b[1mtrain: \u001b[0mWARNING ⚠️ /content/drive/MyDrive/dataset/images/train/951.jpg: ignoring corrupt image/label: non-normalized or out of bounds coordinates [     1.0935]\n",
            "\u001b[34m\u001b[1mtrain: \u001b[0mWARNING ⚠️ /content/drive/MyDrive/dataset/images/train/954.jpg: ignoring corrupt image/label: non-normalized or out of bounds coordinates [     1.0645      1.0125      1.0025      1.0462]\n",
            "\u001b[34m\u001b[1mtrain: \u001b[0mWARNING ⚠️ /content/drive/MyDrive/dataset/images/train/957.jpg: ignoring corrupt image/label: non-normalized or out of bounds coordinates [     1.2347      1.0159      1.0041       1.379]\n",
            "\u001b[34m\u001b[1mtrain: \u001b[0mWARNING ⚠️ /content/drive/MyDrive/dataset/images/train/958.jpg: ignoring corrupt image/label: non-normalized or out of bounds coordinates [     1.8467      1.0025      1.5433        1.45      1.3683       1.515        1.77       1.665      1.6733      1.9162       1.395       2.055       1.955      1.9512      1.0775        2.11        1.21]\n",
            "\u001b[34m\u001b[1mtrain: \u001b[0mWARNING ⚠️ /content/drive/MyDrive/dataset/images/train/959.jpg: ignoring corrupt image/label: non-normalized or out of bounds coordinates [     2.0711      1.5967      1.1644      2.9511      1.1117      1.7783      1.1378        2.34      1.9567      3.6311      1.9433      3.6889      1.6622      1.3333]\n",
            "\u001b[34m\u001b[1mtrain: \u001b[0mWARNING ⚠️ /content/drive/MyDrive/dataset/images/train/962.jpg: ignoring corrupt image/label: non-normalized or out of bounds coordinates [     1.3377]\n",
            "\u001b[34m\u001b[1mtrain: \u001b[0mWARNING ⚠️ /content/drive/MyDrive/dataset/images/train/963.jpg: corrupt JPEG restored and saved\n",
            "\u001b[34m\u001b[1mtrain: \u001b[0mWARNING ⚠️ /content/drive/MyDrive/dataset/images/train/964.jpg: ignoring corrupt image/label: non-normalized or out of bounds coordinates [     1.0807      1.1256      1.3203      1.3174      1.3395      1.1512      1.2165      1.3275      1.1358       1.307]\n",
            "\u001b[34m\u001b[1mtrain: \u001b[0mWARNING ⚠️ /content/drive/MyDrive/dataset/images/train/967.jpg: ignoring corrupt image/label: non-normalized or out of bounds coordinates [     1.0199]\n",
            "\u001b[34m\u001b[1mtrain: \u001b[0mWARNING ⚠️ /content/drive/MyDrive/dataset/images/train/969.jpg: ignoring corrupt image/label: non-normalized or out of bounds coordinates [     1.9533      2.0223      1.3933      1.4208]\n",
            "\u001b[34m\u001b[1mtrain: \u001b[0mWARNING ⚠️ /content/drive/MyDrive/dataset/images/train/972.jpg: ignoring corrupt image/label: non-normalized or out of bounds coordinates [     1.0712]\n",
            "\u001b[34m\u001b[1mtrain: \u001b[0mWARNING ⚠️ /content/drive/MyDrive/dataset/images/train/973.jpg: ignoring corrupt image/label: non-normalized or out of bounds coordinates [       1.15      1.5333       2.125        1.36      1.0375      1.4978]\n",
            "\u001b[34m\u001b[1mtrain: \u001b[0mWARNING ⚠️ /content/drive/MyDrive/dataset/images/train/980.jpg: ignoring corrupt image/label: non-normalized or out of bounds coordinates [      1.025]\n",
            "\u001b[34m\u001b[1mtrain: \u001b[0mWARNING ⚠️ /content/drive/MyDrive/dataset/images/train/983.jpg: ignoring corrupt image/label: non-normalized or out of bounds coordinates [     1.0888      1.4178      1.3925      1.0489]\n",
            "\u001b[34m\u001b[1mtrain: \u001b[0mWARNING ⚠️ /content/drive/MyDrive/dataset/images/train/987.jpg: ignoring corrupt image/label: non-normalized or out of bounds coordinates [     1.0591      1.0708      1.1063]\n",
            "\u001b[34m\u001b[1mtrain: \u001b[0mWARNING ⚠️ /content/drive/MyDrive/dataset/images/train/989.jpg: ignoring corrupt image/label: non-normalized or out of bounds coordinates [     1.2031]\n",
            "\u001b[34m\u001b[1mtrain: \u001b[0mWARNING ⚠️ /content/drive/MyDrive/dataset/images/train/994.jpg: ignoring corrupt image/label: non-normalized or out of bounds coordinates [     1.2322      1.2722      1.1257]\n",
            "\u001b[34m\u001b[1mtrain: \u001b[0mWARNING ⚠️ /content/drive/MyDrive/dataset/images/train/998.jpg: ignoring corrupt image/label: non-normalized or out of bounds coordinates [     1.0963      1.3311      2.0375      1.7111        1.59]\n",
            "\u001b[34m\u001b[1mtrain: \u001b[0mCaching images (0.2GB ram): 100% 683/683 [00:10<00:00, 64.33it/s]\n",
            "\u001b[34m\u001b[1mval: \u001b[0mScanning /content/drive/MyDrive/dataset/labels/val... 189 images, 0 backgrounds, 11 corrupt: 100% 189/189 [01:48<00:00,  1.74it/s]\n",
            "\u001b[34m\u001b[1mval: \u001b[0mWARNING ⚠️ /content/drive/MyDrive/dataset/images/val/1000.jpg: ignoring corrupt image/label: non-normalized or out of bounds coordinates [     1.1933]\n",
            "\u001b[34m\u001b[1mval: \u001b[0mWARNING ⚠️ /content/drive/MyDrive/dataset/images/val/1005.jpg: ignoring corrupt image/label: non-normalized or out of bounds coordinates [     1.5733        1.55]\n",
            "\u001b[34m\u001b[1mval: \u001b[0mWARNING ⚠️ /content/drive/MyDrive/dataset/images/val/814.jpg: ignoring corrupt image/label: non-normalized or out of bounds coordinates [     1.0092]\n",
            "\u001b[34m\u001b[1mval: \u001b[0mWARNING ⚠️ /content/drive/MyDrive/dataset/images/val/817.jpg: ignoring corrupt image/label: non-normalized or out of bounds coordinates [      1.355]\n",
            "\u001b[34m\u001b[1mval: \u001b[0mWARNING ⚠️ /content/drive/MyDrive/dataset/images/val/856.jpg: ignoring corrupt image/label: non-normalized or out of bounds coordinates [     1.3348      1.6326       1.488      1.2913      1.6772      1.7348       1.013      1.4435      1.2391      1.6609]\n",
            "\u001b[34m\u001b[1mval: \u001b[0mWARNING ⚠️ /content/drive/MyDrive/dataset/images/val/899.jpg: ignoring corrupt image/label: non-normalized or out of bounds coordinates [     1.0806      1.2375]\n",
            "\u001b[34m\u001b[1mval: \u001b[0mWARNING ⚠️ /content/drive/MyDrive/dataset/images/val/931.jpg: ignoring corrupt image/label: non-normalized or out of bounds coordinates [     1.0196      1.2317      1.2421]\n",
            "\u001b[34m\u001b[1mval: \u001b[0mWARNING ⚠️ /content/drive/MyDrive/dataset/images/val/933.jpg: ignoring corrupt image/label: non-normalized or out of bounds coordinates [     1.2869      1.5125      1.3452      1.8976       2.006      1.0833       1.125      1.2708         1.7      1.5726      1.0688      1.8417      1.7521]\n",
            "\u001b[34m\u001b[1mval: \u001b[0mWARNING ⚠️ /content/drive/MyDrive/dataset/images/val/947.jpg: ignoring corrupt image/label: non-normalized or out of bounds coordinates [     1.0974      1.1322]\n",
            "\u001b[34m\u001b[1mval: \u001b[0mWARNING ⚠️ /content/drive/MyDrive/dataset/images/val/971.jpg: ignoring corrupt image/label: non-normalized or out of bounds coordinates [     1.0007      1.0322]\n",
            "\u001b[34m\u001b[1mval: \u001b[0mWARNING ⚠️ /content/drive/MyDrive/dataset/images/val/979.jpg: ignoring corrupt image/label: non-normalized or out of bounds coordinates [     1.2778      1.4062      1.0244      1.2075      1.6612        1.48      1.0275         1.7]\n",
            "\u001b[34m\u001b[1mval: \u001b[0mNew cache created: /content/drive/MyDrive/dataset/labels/val.cache\n",
            "\u001b[34m\u001b[1mval: \u001b[0mCaching images (0.1GB ram): 100% 178/178 [00:03<00:00, 57.04it/s]\n",
            "\n",
            "\u001b[34m\u001b[1mAutoAnchor: \u001b[0m4.51 anchors/target, 0.998 Best Possible Recall (BPR). Current anchors are a good fit to dataset ✅\n",
            "Plotting labels to runs/train/exp2/labels.jpg... \n",
            "Image sizes 416 train, 416 val\n",
            "Using 2 dataloader workers\n",
            "Logging results to \u001b[1mruns/train/exp2\u001b[0m\n",
            "Starting training for 30 epochs...\n",
            "\n",
            "      Epoch    GPU_mem   box_loss   obj_loss   cls_loss  Instances       Size\n",
            "       0/29      1.71G     0.1116    0.05003          0         90        416: 100% 43/43 [00:10<00:00,  3.99it/s]\n",
            "                 Class     Images  Instances          P          R      mAP50   mAP50-95: 100% 6/6 [00:02<00:00,  2.25it/s]\n",
            "                   all        178        796     0.0599     0.0427     0.0123    0.00326\n",
            "\n",
            "      Epoch    GPU_mem   box_loss   obj_loss   cls_loss  Instances       Size\n",
            "       1/29      2.04G    0.09385    0.05824          0         89        416: 100% 43/43 [00:08<00:00,  5.29it/s]\n",
            "                 Class     Images  Instances          P          R      mAP50   mAP50-95: 100% 6/6 [00:01<00:00,  4.10it/s]\n",
            "                   all        178        796     0.0877      0.181     0.0372    0.00971\n",
            "\n",
            "      Epoch    GPU_mem   box_loss   obj_loss   cls_loss  Instances       Size\n",
            "       2/29      2.04G    0.08663    0.05443          0         91        416: 100% 43/43 [00:07<00:00,  5.38it/s]\n",
            "                 Class     Images  Instances          P          R      mAP50   mAP50-95: 100% 6/6 [00:01<00:00,  4.98it/s]\n",
            "                   all        178        796      0.148      0.188     0.0778     0.0205\n",
            "\n",
            "      Epoch    GPU_mem   box_loss   obj_loss   cls_loss  Instances       Size\n",
            "       3/29      2.04G    0.08013    0.05535          0        148        416: 100% 43/43 [00:08<00:00,  5.37it/s]\n",
            "                 Class     Images  Instances          P          R      mAP50   mAP50-95: 100% 6/6 [00:01<00:00,  4.99it/s]\n",
            "                   all        178        796     0.0988      0.268     0.0515     0.0142\n",
            "\n",
            "      Epoch    GPU_mem   box_loss   obj_loss   cls_loss  Instances       Size\n",
            "       4/29      2.04G    0.07397    0.05735          0         80        416: 100% 43/43 [00:08<00:00,  5.29it/s]\n",
            "                 Class     Images  Instances          P          R      mAP50   mAP50-95: 100% 6/6 [00:01<00:00,  5.28it/s]\n",
            "                   all        178        796       0.24      0.267      0.133     0.0339\n",
            "\n",
            "      Epoch    GPU_mem   box_loss   obj_loss   cls_loss  Instances       Size\n",
            "       5/29      2.04G    0.07077    0.05892          0        107        416: 100% 43/43 [00:08<00:00,  5.32it/s]\n",
            "                 Class     Images  Instances          P          R      mAP50   mAP50-95: 100% 6/6 [00:01<00:00,  5.14it/s]\n",
            "                   all        178        796      0.406      0.347      0.267     0.0851\n",
            "\n",
            "      Epoch    GPU_mem   box_loss   obj_loss   cls_loss  Instances       Size\n",
            "       6/29      2.04G    0.06925    0.05838          0        151        416: 100% 43/43 [00:08<00:00,  5.29it/s]\n",
            "                 Class     Images  Instances          P          R      mAP50   mAP50-95: 100% 6/6 [00:01<00:00,  5.57it/s]\n",
            "                   all        178        796      0.427      0.339      0.284     0.0896\n",
            "\n",
            "      Epoch    GPU_mem   box_loss   obj_loss   cls_loss  Instances       Size\n",
            "       7/29      2.04G    0.06656    0.05481          0         79        416: 100% 43/43 [00:07<00:00,  5.61it/s]\n",
            "                 Class     Images  Instances          P          R      mAP50   mAP50-95: 100% 6/6 [00:01<00:00,  5.22it/s]\n",
            "                   all        178        796      0.487      0.349        0.3      0.102\n",
            "\n",
            "      Epoch    GPU_mem   box_loss   obj_loss   cls_loss  Instances       Size\n",
            "       8/29      2.04G    0.06633    0.05614          0        115        416: 100% 43/43 [00:07<00:00,  5.48it/s]\n",
            "                 Class     Images  Instances          P          R      mAP50   mAP50-95: 100% 6/6 [00:01<00:00,  5.65it/s]\n",
            "                   all        178        796      0.463      0.344      0.295     0.0998\n",
            "\n",
            "      Epoch    GPU_mem   box_loss   obj_loss   cls_loss  Instances       Size\n",
            "       9/29      2.04G    0.06493    0.05688          0         75        416: 100% 43/43 [00:08<00:00,  5.30it/s]\n",
            "                 Class     Images  Instances          P          R      mAP50   mAP50-95: 100% 6/6 [00:01<00:00,  5.25it/s]\n",
            "                   all        178        796      0.469       0.35      0.292     0.0973\n",
            "\n",
            "      Epoch    GPU_mem   box_loss   obj_loss   cls_loss  Instances       Size\n",
            "      10/29      2.04G     0.0651    0.05662          0        143        416: 100% 43/43 [00:07<00:00,  5.46it/s]\n",
            "                 Class     Images  Instances          P          R      mAP50   mAP50-95: 100% 6/6 [00:01<00:00,  5.40it/s]\n",
            "                   all        178        796      0.493       0.34      0.304      0.104\n",
            "\n",
            "      Epoch    GPU_mem   box_loss   obj_loss   cls_loss  Instances       Size\n",
            "      11/29      2.04G     0.0643    0.05586          0        177        416: 100% 43/43 [00:07<00:00,  5.38it/s]\n",
            "                 Class     Images  Instances          P          R      mAP50   mAP50-95: 100% 6/6 [00:01<00:00,  5.51it/s]\n",
            "                   all        178        796      0.482      0.369      0.318      0.106\n",
            "\n",
            "      Epoch    GPU_mem   box_loss   obj_loss   cls_loss  Instances       Size\n",
            "      12/29      2.04G    0.06455    0.05564          0         88        416: 100% 43/43 [00:07<00:00,  5.42it/s]\n",
            "                 Class     Images  Instances          P          R      mAP50   mAP50-95: 100% 6/6 [00:01<00:00,  5.54it/s]\n",
            "                   all        178        796        0.5      0.367       0.31      0.102\n",
            "\n",
            "      Epoch    GPU_mem   box_loss   obj_loss   cls_loss  Instances       Size\n",
            "      13/29      2.04G    0.06399    0.05488          0         87        416: 100% 43/43 [00:08<00:00,  5.33it/s]\n",
            "                 Class     Images  Instances          P          R      mAP50   mAP50-95: 100% 6/6 [00:01<00:00,  4.74it/s]\n",
            "                   all        178        796      0.415      0.372      0.272     0.0818\n",
            "\n",
            "      Epoch    GPU_mem   box_loss   obj_loss   cls_loss  Instances       Size\n",
            "      14/29      2.04G    0.06217    0.05385          0        104        416: 100% 43/43 [00:09<00:00,  4.75it/s]\n",
            "                 Class     Images  Instances          P          R      mAP50   mAP50-95: 100% 6/6 [00:01<00:00,  5.68it/s]\n",
            "                   all        178        796      0.473      0.325      0.276     0.0943\n",
            "\n",
            "      Epoch    GPU_mem   box_loss   obj_loss   cls_loss  Instances       Size\n",
            "      15/29      2.04G    0.06214    0.05487          0         76        416: 100% 43/43 [00:07<00:00,  5.44it/s]\n",
            "                 Class     Images  Instances          P          R      mAP50   mAP50-95: 100% 6/6 [00:01<00:00,  5.60it/s]\n",
            "                   all        178        796      0.471      0.361      0.296      0.101\n",
            "\n",
            "      Epoch    GPU_mem   box_loss   obj_loss   cls_loss  Instances       Size\n",
            "      16/29      2.04G    0.06112    0.05407          0        111        416: 100% 43/43 [00:08<00:00,  5.35it/s]\n",
            "                 Class     Images  Instances          P          R      mAP50   mAP50-95: 100% 6/6 [00:01<00:00,  5.87it/s]\n",
            "                   all        178        796      0.464      0.347        0.3      0.106\n",
            "\n",
            "      Epoch    GPU_mem   box_loss   obj_loss   cls_loss  Instances       Size\n",
            "      17/29      2.04G    0.06085    0.05528          0        110        416: 100% 43/43 [00:08<00:00,  5.36it/s]\n",
            "                 Class     Images  Instances          P          R      mAP50   mAP50-95: 100% 6/6 [00:01<00:00,  5.69it/s]\n",
            "                   all        178        796      0.434      0.369      0.285     0.0989\n",
            "\n",
            "      Epoch    GPU_mem   box_loss   obj_loss   cls_loss  Instances       Size\n",
            "      18/29      2.04G    0.06151     0.0554          0        102        416: 100% 43/43 [00:07<00:00,  5.44it/s]\n",
            "                 Class     Images  Instances          P          R      mAP50   mAP50-95: 100% 6/6 [00:01<00:00,  5.70it/s]\n",
            "                   all        178        796      0.458      0.378      0.294      0.102\n",
            "\n",
            "      Epoch    GPU_mem   box_loss   obj_loss   cls_loss  Instances       Size\n",
            "      19/29      2.04G    0.05938    0.05376          0         91        416: 100% 43/43 [00:08<00:00,  5.28it/s]\n",
            "                 Class     Images  Instances          P          R      mAP50   mAP50-95: 100% 6/6 [00:01<00:00,  5.65it/s]\n",
            "                   all        178        796      0.432      0.353      0.273     0.0926\n",
            "\n",
            "      Epoch    GPU_mem   box_loss   obj_loss   cls_loss  Instances       Size\n",
            "      20/29      2.04G    0.06031    0.05522          0         86        416: 100% 43/43 [00:08<00:00,  5.36it/s]\n",
            "                 Class     Images  Instances          P          R      mAP50   mAP50-95: 100% 6/6 [00:01<00:00,  5.80it/s]\n",
            "                   all        178        796      0.405      0.359      0.277     0.0944\n",
            "\n",
            "      Epoch    GPU_mem   box_loss   obj_loss   cls_loss  Instances       Size\n",
            "      21/29      2.04G    0.05943    0.05364          0         82        416: 100% 43/43 [00:07<00:00,  5.40it/s]\n",
            "                 Class     Images  Instances          P          R      mAP50   mAP50-95: 100% 6/6 [00:00<00:00,  6.09it/s]\n",
            "                   all        178        796      0.418      0.349      0.271     0.0935\n",
            "\n",
            "      Epoch    GPU_mem   box_loss   obj_loss   cls_loss  Instances       Size\n",
            "      22/29      2.04G    0.05944    0.05256          0         84        416: 100% 43/43 [00:08<00:00,  5.37it/s]\n",
            "                 Class     Images  Instances          P          R      mAP50   mAP50-95: 100% 6/6 [00:01<00:00,  5.58it/s]\n",
            "                   all        178        796      0.405      0.356      0.268     0.0911\n",
            "\n",
            "      Epoch    GPU_mem   box_loss   obj_loss   cls_loss  Instances       Size\n",
            "      23/29      2.04G    0.05939    0.05378          0         68        416: 100% 43/43 [00:07<00:00,  5.39it/s]\n",
            "                 Class     Images  Instances          P          R      mAP50   mAP50-95: 100% 6/6 [00:01<00:00,  5.69it/s]\n",
            "                   all        178        796      0.399      0.339      0.252     0.0863\n",
            "\n",
            "      Epoch    GPU_mem   box_loss   obj_loss   cls_loss  Instances       Size\n",
            "      24/29      2.04G    0.05772    0.05297          0        148        416: 100% 43/43 [00:07<00:00,  5.38it/s]\n",
            "                 Class     Images  Instances          P          R      mAP50   mAP50-95: 100% 6/6 [00:01<00:00,  5.92it/s]\n",
            "                   all        178        796      0.408      0.353      0.268     0.0892\n",
            "\n",
            "      Epoch    GPU_mem   box_loss   obj_loss   cls_loss  Instances       Size\n",
            "      25/29      2.04G    0.05845    0.05403          0         96        416: 100% 43/43 [00:08<00:00,  5.33it/s]\n",
            "                 Class     Images  Instances          P          R      mAP50   mAP50-95: 100% 6/6 [00:01<00:00,  5.23it/s]\n",
            "                   all        178        796       0.43      0.347      0.275     0.0904\n",
            "\n",
            "      Epoch    GPU_mem   box_loss   obj_loss   cls_loss  Instances       Size\n",
            "      26/29      2.04G     0.0582    0.05215          0        152        416: 100% 43/43 [00:07<00:00,  5.48it/s]\n",
            "                 Class     Images  Instances          P          R      mAP50   mAP50-95: 100% 6/6 [00:01<00:00,  5.74it/s]\n",
            "                   all        178        796      0.436      0.356      0.286     0.0939\n",
            "\n",
            "      Epoch    GPU_mem   box_loss   obj_loss   cls_loss  Instances       Size\n",
            "      27/29      2.04G    0.05652    0.05261          0        117        416: 100% 43/43 [00:07<00:00,  5.53it/s]\n",
            "                 Class     Images  Instances          P          R      mAP50   mAP50-95: 100% 6/6 [00:01<00:00,  5.26it/s]\n",
            "                   all        178        796      0.438      0.349      0.273     0.0909\n",
            "\n",
            "      Epoch    GPU_mem   box_loss   obj_loss   cls_loss  Instances       Size\n",
            "      28/29      2.04G    0.05797    0.05352          0         60        416: 100% 43/43 [00:08<00:00,  5.23it/s]\n",
            "                 Class     Images  Instances          P          R      mAP50   mAP50-95: 100% 6/6 [00:01<00:00,  5.90it/s]\n",
            "                   all        178        796      0.416      0.333      0.261     0.0875\n",
            "\n",
            "      Epoch    GPU_mem   box_loss   obj_loss   cls_loss  Instances       Size\n",
            "      29/29      2.04G    0.05741    0.05071          0        132        416: 100% 43/43 [00:07<00:00,  5.40it/s]\n",
            "                 Class     Images  Instances          P          R      mAP50   mAP50-95: 100% 6/6 [00:01<00:00,  5.70it/s]\n",
            "                   all        178        796       0.41      0.342      0.262     0.0894\n",
            "\n",
            "30 epochs completed in 0.080 hours.\n",
            "Optimizer stripped from runs/train/exp2/weights/last.pt, 14.3MB\n",
            "Optimizer stripped from runs/train/exp2/weights/best.pt, 14.3MB\n",
            "\n",
            "Validating runs/train/exp2/weights/best.pt...\n",
            "Fusing layers... \n",
            "Model summary: 157 layers, 7012822 parameters, 0 gradients, 15.8 GFLOPs\n",
            "                 Class     Images  Instances          P          R      mAP50   mAP50-95: 100% 6/6 [00:02<00:00,  2.33it/s]\n",
            "                   all        178        796       0.48       0.37      0.318      0.106\n",
            "Results saved to \u001b[1mruns/train/exp2\u001b[0m\n"
          ]
        }
      ],
      "source": [
        "!python train.py --img 415 --batch 16 --epochs 30 --data /content/drive/MyDrive/dataset/yml.yaml  --weights yolov5s.pt --cache"
      ]
    },
    {
      "cell_type": "code",
      "execution_count": null,
      "metadata": {
        "colab": {
          "base_uri": "https://localhost:8080/"
        },
        "id": "pPSw_G0UT_UB",
        "outputId": "e90c9ff1-adf7-4a9f-bdbe-446564b13996"
      },
      "outputs": [
        {
          "name": "stdout",
          "output_type": "stream",
          "text": [
            "Drive already mounted at /content/drive; to attempt to forcibly remount, call drive.mount(\"/content/drive\", force_remount=True).\n"
          ]
        }
      ],
      "source": [
        "from google.colab import drive\n",
        "drive.mount('/content/drive')"
      ]
    },
    {
      "cell_type": "code",
      "execution_count": null,
      "metadata": {
        "colab": {
          "base_uri": "https://localhost:8080/"
        },
        "id": "ItJHKs34THh0",
        "outputId": "12cad327-b044-4efc-cfcb-372f33b244a3"
      },
      "outputs": [
        {
          "output_type": "stream",
          "name": "stdout",
          "text": [
            "\u001b[34m\u001b[1mdetect: \u001b[0mweights=['/content/yolov5/runs/train/exp/weights/best.pt'], source=/content/drive/MyDrive/a-2022-06-06T114116.611.jpg, data=data/coco128.yaml, imgsz=[640, 640], conf_thres=0.25, iou_thres=0.45, max_det=1000, device=, view_img=False, save_txt=False, save_conf=False, save_crop=False, nosave=False, classes=None, agnostic_nms=False, augment=False, visualize=False, update=False, project=runs/detect, name=exp, exist_ok=False, line_thickness=3, hide_labels=False, hide_conf=False, half=False, dnn=False, vid_stride=1\n",
            "YOLOv5 🚀 v7.0-32-g357cde9 Python-3.8.16 torch-1.13.0+cu116 CUDA:0 (Tesla T4, 15110MiB)\n",
            "\n",
            "Fusing layers... \n",
            "Model summary: 157 layers, 7012822 parameters, 0 gradients, 15.8 GFLOPs\n",
            "image 1/1 /content/drive/MyDrive/a-2022-06-06T114116.611.jpg: 352x640 4 pothholes, 13.5ms\n",
            "Speed: 0.6ms pre-process, 13.5ms inference, 1.8ms NMS per image at shape (1, 3, 640, 640)\n",
            "Results saved to \u001b[1mruns/detect/exp\u001b[0m\n"
          ]
        }
      ],
      "source": [
        "!python detect.py --source /content/drive/MyDrive/a-2022-06-06T114116.611.jpg --weights /content/yolov5/runs/train/exp/weights/best.pt"
      ]
    }
  ],
  "metadata": {
    "colab": {
      "provenance": [],
      "include_colab_link": true
    },
    "kernelspec": {
      "display_name": "Python 3",
      "name": "python3"
    },
    "language_info": {
      "name": "python"
    },
    "accelerator": "GPU",
    "gpuClass": "standard"
  },
  "nbformat": 4,
  "nbformat_minor": 0
}